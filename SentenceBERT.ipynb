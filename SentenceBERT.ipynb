{
  "nbformat": 4,
  "nbformat_minor": 0,
  "metadata": {
    "colab": {
      "name": "Untitled",
      "provenance": [],
      "collapsed_sections": [],
      "authorship_tag": "ABX9TyNKmPhnvG2el1nM9tUv75su",
      "include_colab_link": true
    },
    "kernelspec": {
      "name": "python3",
      "display_name": "Python 3"
    }
  },
  "cells": [
    {
      "cell_type": "markdown",
      "metadata": {
        "id": "view-in-github",
        "colab_type": "text"
      },
      "source": [
        "<a href=\"https://colab.research.google.com/github/QuadV/ImplementingPapers/blob/main/SentenceBERT.ipynb\" target=\"_parent\"><img src=\"https://colab.research.google.com/assets/colab-badge.svg\" alt=\"Open In Colab\"/></a>"
      ]
    },
    {
      "cell_type": "code",
      "metadata": {
        "id": "38FlHHZi1jyY"
      },
      "source": [
        "import torch\n",
        "import torch.nn as nn\n",
        "import torch.optim as optim\n",
        "from torchtext.datasets import Multi30k\n",
        "from torchtext.data import Field, BucketIterator\n",
        "import numpy as np\n",
        "import spacy\n",
        "import random\n",
        "from torch.utils.tensorboard import SummaryWriter # to print to tensorboard\n",
        "from typing import Union, Iterable"
      ],
      "execution_count": 13,
      "outputs": []
    },
    {
      "cell_type": "markdown",
      "metadata": {
        "id": "uii1z_Jpi-Oa"
      },
      "source": [
        "Sentence-BERT: Sentence Embeddings using Siamese BERT-Networks"
      ]
    },
    {
      "cell_type": "markdown",
      "metadata": {
        "id": "sML0dwe5pIdC"
      },
      "source": [
        "Step 1: Create a Transformer model to load BERT/RoBERTa to derive fixed size sentence embedding"
      ]
    },
    {
      "cell_type": "code",
      "metadata": {
        "id": "_eWlPzAbi7Jl"
      },
      "source": [
        "class Transformer(nn.Module):\n",
        "  def __init__(self, model_name_or_path, model_args, tokenizer_args, max_seq_length, device):\n",
        "    pass\n",
        "\n",
        "  def forward(self, features):\n",
        "    return features"
      ],
      "execution_count": 9,
      "outputs": []
    },
    {
      "cell_type": "markdown",
      "metadata": {
        "id": "7zc9Krkwpnsm"
      },
      "source": [
        "Pooling strategy to output of Transformer model (MEAN-strategy) \n",
        "\n",
        "*In future (MAX-strategy, using output of the CLS-token)*"
      ]
    },
    {
      "cell_type": "code",
      "metadata": {
        "id": "26xiXDGyjeyx"
      },
      "source": [
        "class Pooling(nn.Module):\n",
        "  def __init__(self):\n",
        "    pass\n",
        "\n",
        "  def forward(self):\n",
        "    pass"
      ],
      "execution_count": 10,
      "outputs": []
    },
    {
      "cell_type": "markdown",
      "metadata": {
        "id": "_25eorL5p7wt"
      },
      "source": [
        "Add both models sequentially and finetune using siamese and triplet networks"
      ]
    },
    {
      "cell_type": "code",
      "metadata": {
        "id": "2JrLs8Ohj_zy"
      },
      "source": [
        "class SequenceTransformer(nn.Sequential):\n",
        "  def __init__(self, model_name_or_path: str=None, modules: Iterable[nn.Module]=None, device: str=None):\n",
        "    pass"
      ],
      "execution_count": 14,
      "outputs": []
    },
    {
      "cell_type": "code",
      "metadata": {
        "id": "AvzTwRMCkLqv"
      },
      "source": [
        "# Objective Functions - Classification, Regression, Triplet"
      ],
      "execution_count": 5,
      "outputs": []
    },
    {
      "cell_type": "code",
      "metadata": {
        "id": "Arteu_spktHg"
      },
      "source": [
        "# write an encode function in sequential model to encode sentences"
      ],
      "execution_count": 6,
      "outputs": []
    },
    {
      "cell_type": "code",
      "metadata": {
        "id": "bRCojMTpovur"
      },
      "source": [
        "# model training"
      ],
      "execution_count": 7,
      "outputs": []
    },
    {
      "cell_type": "code",
      "metadata": {
        "id": "anhvu7ROpEsI"
      },
      "source": [
        "# model evaluation"
      ],
      "execution_count": 8,
      "outputs": []
    },
    {
      "cell_type": "code",
      "metadata": {
        "id": "p0AsHWZEpGdI"
      },
      "source": [
        ""
      ],
      "execution_count": null,
      "outputs": []
    }
  ]
}