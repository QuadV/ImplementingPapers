{
  "nbformat": 4,
  "nbformat_minor": 0,
  "metadata": {
    "colab": {
      "name": "Untitled",
      "provenance": [],
      "collapsed_sections": [],
      "authorship_tag": "ABX9TyOoojqmzToGAOHLAzXVNylw",
      "include_colab_link": true
    },
    "kernelspec": {
      "name": "python3",
      "display_name": "Python 3"
    },
    "accelerator": "GPU"
  },
  "cells": [
    {
      "cell_type": "markdown",
      "metadata": {
        "id": "view-in-github",
        "colab_type": "text"
      },
      "source": [
        "<a href=\"https://colab.research.google.com/github/QuadV/ImplementingPapers/blob/main/AttentionIsAllYouNeed.ipynb\" target=\"_parent\"><img src=\"https://colab.research.google.com/assets/colab-badge.svg\" alt=\"Open In Colab\"/></a>"
      ]
    },
    {
      "cell_type": "code",
      "metadata": {
        "id": "38FlHHZi1jyY"
      },
      "source": [
        "import torch\n",
        "import torch.nn as nn"
      ],
      "execution_count": 1,
      "outputs": []
    },
    {
      "cell_type": "code",
      "metadata": {
        "id": "vN_NIzA_4UwQ"
      },
      "source": [
        "class SelfAttention(nn.Module):\n",
        "  def __init__(self, embed_size, heads):\n",
        "    super(SelfAttention, self).__init__()\n",
        "    self.embed_size = embed_size  # 256\n",
        "    self.heads = heads  # 8 heads\n",
        "    self.head_dim = embed_size//heads  # 32\n",
        "\n",
        "    assert(self.head_dim * heads == embed_size), \"Embed size needs to be div by heads\"\n",
        "\n",
        "    # Linear layers to send Values, Keys and Queries\n",
        "    self.values = nn.Linear(self.head_dim, self.head_dim, bias=False)\n",
        "    self.keys = nn.Linear(self.head_dim, self.head_dim, bias=False)\n",
        "    self.queries = nn.Linear(self.head_dim, self.head_dim, bias=False)\n",
        "    # conactenate the three outputs\n",
        "    self.fc_out = nn.Linear(heads * self.head_dim, embed_size)\n",
        "\n",
        "  def forward(self, values, keys, query, mask):\n",
        "      N = query.shape[0] # number of training examples\n",
        "      value_len, key_len, query_len = values.shape[1], keys.shape[1], query.shape[1]\n",
        "\n",
        "      # split embeddings into heads pieces\n",
        "      values = values.reshape(N, value_len, self.heads, self.head_dim)\n",
        "      keys = keys.reshape(N, key_len, self.heads, self.head_dim)\n",
        "      queries = query.reshape(N, query_len, self.heads, self.head_dim)\n",
        "\n",
        "      values = self.values(values)\n",
        "      keys = self.keys(keys)\n",
        "      queries = self.queries(queries)\n",
        "\n",
        "      #  multiply queries with keys\n",
        "      energy = torch.einsum(\"nqhd,nkhd->nhqk\", [queries, keys])\n",
        "      # queries shape: (N, query_len, self.heads, self.head_dim)\n",
        "      # keys shape: (N, key_len, self.heads, self.head_dim)\n",
        "      # energy_shape: (N, heads, query_len, key_len) # how much attention should be paid for for each word in the sentence\n",
        "      \n",
        "      if mask is not None:\n",
        "        energy = energy.masked_fill(mask==0, float(\"-1e20\")) # if it is masked, set it to -infinity (numerical value is set to prevent overflow)\n",
        "      \n",
        "      attention = torch.softmax(energy/(self.embed_size ** (1/2)), dim=3)  # dim=3, normalizing across the key length\n",
        "      # key is the source sentence, query is target. The scores along keys are normalized. If first word = 0.8, it means attentiion along that word is high\n",
        "\n",
        "      out = torch.einsum(\"nhql,nlhd->nqhd\", [attention, values]).reshape(\n",
        "          N, query_len, self.heads * self.head_dim\n",
        "      )\n",
        "      # attention shape: (N, heads, query_len, key_len)  # key_len and value_len are same\n",
        "      # values shape: (N, value_len, heads, self.head_dim)\n",
        "      # out shape: (N, query_len, heads, head_dim) then flatten last two dimensions\n",
        "\n",
        "      out = self.fc_out(out)\n",
        "      return out\n"
      ],
      "execution_count": 21,
      "outputs": []
    },
    {
      "cell_type": "code",
      "metadata": {
        "id": "WP90FbE3AtVt"
      },
      "source": [
        "class TransformerBlock(nn.Module):\n",
        "  def __init__(self, embed_size, heads, dropout, forward_expansion):\n",
        "    super(TransformerBlock, self).__init__()\n",
        "    self.attention = SelfAttention(embed_size=embed_size, heads=heads)\n",
        "    self.norm1 = nn.LayerNorm(embed_size)  # takes an average for every single example rather than batch-wise\n",
        "    self.norm2 = nn.LayerNorm(embed_size)\n",
        "\n",
        "    self.feed_forward = nn.Sequential(\n",
        "        nn.Linear(embed_size, forward_expansion*embed_size),  # forward_expansion=4 in paper\n",
        "        nn.ReLU(),\n",
        "        nn.Linear(forward_expansion*embed_size, embed_size)\n",
        "    )\n",
        "    self.dropout = nn.Dropout(dropout)\n",
        "\n",
        "  def forward(self, value, key, query, mask):\n",
        "    attention = self.attention(value, key, query, mask)\n",
        "\n",
        "    x = self.dropout(self.norm1(attention + query))  # input query are passed as well - skip connection\n",
        "    forward = self.feed_forward(x)\n",
        "    out = self.dropout(self.norm2(forward + x))\n",
        "    return out"
      ],
      "execution_count": 22,
      "outputs": []
    },
    {
      "cell_type": "code",
      "metadata": {
        "id": "upKC8DQoJmkd"
      },
      "source": [
        "class Encoder(nn.Module):\n",
        "  def __init__(self, src_vocab_size, embed_size, num_layers, heads, device, forward_expansion, dropout, max_length):\n",
        "    super(Encoder, self).__init__()\n",
        "    self.embed_size = embed_size\n",
        "    self.device = device\n",
        "    self.word_embedding = nn.Embedding(num_embeddings=src_vocab_size, embedding_dim=embed_size)\n",
        "    self.position_embedding = nn.Embedding(num_embeddings=max_length, embedding_dim=embed_size)\n",
        "\n",
        "    self.layers = nn.ModuleList(\n",
        "        [\n",
        "          TransformerBlock(embed_size=embed_size, heads=heads, dropout=dropout, forward_expansion=forward_expansion) for _ in range(num_layers)\n",
        "        ]\n",
        "    )\n",
        "    self.dropout = nn.Dropout(dropout)\n",
        "\n",
        "  def forward(self, x, mask):\n",
        "    N, seq_length = x.shape\n",
        "    positions = torch.arange(0, seq_length).expand(N, seq_length).to(self.device)\n",
        "\n",
        "    out = self.dropout(self.word_embedding(x) + self.position_embedding(positions))\n",
        "\n",
        "    for layer in self.layers:\n",
        "      out = layer(out, out, out, mask)  # value, key, query are same inputs\n",
        "\n",
        "    return out\n",
        "\n",
        "\n",
        "\n"
      ],
      "execution_count": 23,
      "outputs": []
    },
    {
      "cell_type": "code",
      "metadata": {
        "id": "utuqMBHgNqAo"
      },
      "source": [
        "class DecoderBlock(nn.Module):\n",
        "  def __init__(self, embed_size, heads, forward_expansion, dropout, device):\n",
        "    super(DecoderBlock, self).__init__()\n",
        "    self.attention = SelfAttention(embed_size, heads)\n",
        "    self.norm = nn.LayerNorm(embed_size)\n",
        "    self.transformer_block = TransformerBlock(embed_size, heads, dropout, forward_expansion)\n",
        "    self.dropout = nn.Dropout(dropout)\n",
        "\n",
        "  def forward(self, x, value, key, query, src_mask, trg_mask):\n",
        "    attention = self.attention(x, x, x, trg_mask)\n",
        "    query = self.dropout(self.norm(attention + x))\n",
        "    out = self.transformer_block(value, key, query, src_mask)\n",
        "    return out\n",
        "\n",
        "class Decoder(nn.Module):\n",
        "  def __init__(self, trg_vocab_size, embed_size, num_layers, heads, forward_expansion, dropout, device, max_length):\n",
        "    super(Decoder, self).__init__()\n",
        "    self.device = device\n",
        "    self.word_embedding = nn.Embedding(trg_vocab_size, embed_size)\n",
        "    self.position_embedding = nn.Embedding(max_length, embed_size)\n",
        "\n",
        "    self.layers = nn.ModuleList(\n",
        "        [\n",
        "         DecoderBlock(embed_size=embed_size, heads=heads, forward_expansion=forward_expansion, dropout=dropout, device=device) for _ in range(num_layers)\n",
        "        ]\n",
        "    )\n",
        "    self.fc_out = nn.Linear(embed_size, trg_vocab_size)\n",
        "    self.dropout = nn.Dropout(dropout)\n",
        "\n",
        "  def forward(self, x, enc_out, src_mask, trg_mask):\n",
        "    N, seq_length = x.shape\n",
        "    positions = torch.arange(0, seq_length).expand(N, seq_length).to(self.device)\n",
        "    x = self.dropout((self.word_embedding(x)+self.position_embedding(positions)))\n",
        "\n",
        "    for layer in self.layers:\n",
        "      x = layer(x, enc_out, enc_out, enc_out, src_mask, trg_mask)\n",
        "\n",
        "    out = self.fc_out(x)\n",
        "    return out\n",
        "\n"
      ],
      "execution_count": 39,
      "outputs": []
    },
    {
      "cell_type": "code",
      "metadata": {
        "id": "OrFmaujPQmgL"
      },
      "source": [
        "class Transformer(nn.Module):\n",
        "  def __init__(self, src_vocab_size, trg_vocab_size, src_pad_idx, trg_pad_idx, embed_size=512, num_layers=6, forward_expansion=4,\n",
        "               heads=8, dropout=0, device=\"cuda\", max_length=100):\n",
        "    super(Transformer, self).__init__()\n",
        "    self.encoder = Encoder(\n",
        "        src_vocab_size, embed_size, num_layers, heads, device, forward_expansion, dropout, max_length\n",
        "    )\n",
        "    self.decoder = Decoder(\n",
        "        trg_vocab_size, embed_size, num_layers, heads, forward_expansion, dropout, device, max_length\n",
        "    )\n",
        "    self.src_pad_idx =src_pad_idx\n",
        "    self.trg_pad_idx = trg_pad_idx\n",
        "    self.device = device\n",
        "\n",
        "  def make_src_mask(self, src):\n",
        "    src_mask = (src != self.src_pad_idx).unsqueeze(1).unsqueeze(2)\n",
        "    # (N, 1, 1, src_len)\n",
        "    return src_mask.to(self.device)\n",
        "\n",
        "  def make_trg_mask(self, trg):\n",
        "    N, trg_len = trg.shape\n",
        "    trg_mask = torch.tril(torch.ones((trg_len, trg_len))).expand(\n",
        "        N, 1, trg_len, trg_len\n",
        "    )\n",
        "    return trg_mask.to(self.device)\n",
        "\n",
        "  def forward(self, src, trg):\n",
        "    src_mask = self.make_src_mask(src)\n",
        "    trg_mask = self.make_trg_mask(trg)\n",
        "    enc_src = self.encoder(src, src_mask)\n",
        "    out = self.decoder(trg, enc_src, src_mask, trg_mask)\n",
        "    return out"
      ],
      "execution_count": 40,
      "outputs": []
    },
    {
      "cell_type": "code",
      "metadata": {
        "id": "iDNG1IH4VnvU",
        "outputId": "bb607a94-3c01-4569-8800-df34733cd630",
        "colab": {
          "base_uri": "https://localhost:8080/",
          "height": 34
        }
      },
      "source": [
        "if __name__ == '__main__':\n",
        "  device = torch.device(\"cuda\" if torch.cuda.is_available() else \"cpu\")\n",
        "\n",
        "  x = torch.tensor([[1, 5, 6, 4, 3, 9, 5, 2, 0], [1, 8, 7, 3, 4, 5, 6, 7, 2]]).to(device)\n",
        "  trg = torch.tensor([[1, 7, 4, 3, 5, 9, 2, 0], [1, 5, 6, 2, 4, 7, 6, 2]]).to(device)\n",
        "\n",
        "  src_pad_idx = 0\n",
        "  trg_pad_idx = 0\n",
        "  src_vocab_size = 10\n",
        "  trg_vocab_size = 10\n",
        "  model = Transformer(src_vocab_size, trg_vocab_size, src_pad_idx, trg_pad_idx).to(device)\n",
        "\n",
        "  out = model(x, trg[:, :-1])\n",
        "  print(out.shape)"
      ],
      "execution_count": 41,
      "outputs": [
        {
          "output_type": "stream",
          "text": [
            "torch.Size([2, 7, 10])\n"
          ],
          "name": "stdout"
        }
      ]
    },
    {
      "cell_type": "code",
      "metadata": {
        "id": "wU_Xf8c5XHMe"
      },
      "source": [
        ""
      ],
      "execution_count": null,
      "outputs": []
    }
  ]
}